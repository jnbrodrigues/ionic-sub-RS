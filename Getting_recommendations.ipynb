{
 "cells": [
  {
   "cell_type": "code",
   "execution_count": 1,
   "metadata": {},
   "outputs": [],
   "source": [
    "from recommender.core import RecommenderSystem, OccupationData\n",
    "import gzip\n",
    "import json\n",
    "import joblib\n",
    "from gensim.models import Word2Vec\n",
    "from pymatgen.core import Element"
   ]
  },
  {
   "cell_type": "code",
   "execution_count": 2,
   "metadata": {},
   "outputs": [],
   "source": [
    "json_file_path = 'data/occupancy_data.json.gz'\n",
    "\n",
    "model = Word2Vec.load(f'models/word2vec.model')\n",
    "embedding = model.wv\n",
    "\n",
    "clf = joblib.load(f'models/decision_tree.joblib')\n",
    "distance_threshold = clf.tree_.threshold[0]"
   ]
  },
  {
   "cell_type": "code",
   "execution_count": 3,
   "metadata": {},
   "outputs": [
    {
     "data": {
      "text/plain": [
       "['Xe', 'Kr', 'Ar', 'Ne', 'He', 'Tc', 'Pu', 'Np', 'U', 'Pa', 'Th', 'Ac', 'Pm']"
      ]
     },
     "execution_count": 3,
     "metadata": {},
     "output_type": "execute_result"
    }
   ],
   "source": [
    "ions = ['Xe', 'Kr', 'Ar', 'Ne', 'He', 'I', 'Br', 'Cl', 'F', 'Te', 'Se', 'S', 'O', 'Bi', 'Sb', 'As', 'P', 'N', 'Pb', 'Sn', 'Ge', 'Si', 'C', 'Tl', 'In', 'Ga', 'Al', 'B', 'Hg', 'Cd', 'Zn', 'Au', 'Ag', 'Cu', 'Pt', 'Pd', 'Ni', 'Ir', 'Rh', 'Co', 'Os', 'Ru', 'Fe', 'Re', 'Tc', 'Mn', 'W', 'Mo', 'Cr', 'Ta', 'Nb', 'V', 'Hf', 'Zr', 'Ti', 'Pu', 'Np', 'U', 'Pa', 'Th', 'Ac', 'Lu', 'Yb', 'Tm', 'Er', 'Ho', 'Dy', 'Tb', 'Gd', 'Eu', 'Sm', 'Pm', 'Nd', 'Pr', 'Ce', 'La', 'Y', 'Sc', 'Ba', 'Sr', 'Ca', 'Mg', 'Be', 'Cs', 'Rb', 'K', 'Na', 'Li', 'H']\n",
    "ion_forbidden_list = [ion for ion in ions if (Element(ion).Z > 83 or \n",
    "                                              ion in ['Tc', 'Pm'] or\n",
    "                                              Element(ion).group == 18)]\n",
    "ion_forbidden_list "
   ]
  },
  {
   "cell_type": "code",
   "execution_count": 4,
   "metadata": {},
   "outputs": [],
   "source": [
    "occupation_data = OccupationData(json_file_path)"
   ]
  },
  {
   "cell_type": "code",
   "execution_count": 5,
   "metadata": {},
   "outputs": [],
   "source": [
    "kagome_id = 1514602\n",
    "\n",
    "kagome_AM = occupation_data.get_AM_from_OQMD_id(kagome_id)"
   ]
  },
  {
   "cell_type": "code",
   "execution_count": 6,
   "metadata": {},
   "outputs": [
    {
     "data": {
      "text/plain": [
       "[0, 1, 1, 3, 1, 1, 6, 6, 6]"
      ]
     },
     "execution_count": 6,
     "metadata": {},
     "output_type": "execute_result"
    }
   ],
   "source": [
    "kagome_AM.equivalent_sites_indexes"
   ]
  },
  {
   "cell_type": "code",
   "execution_count": 7,
   "metadata": {},
   "outputs": [],
   "source": [
    "rs = RecommenderSystem(occupation_data=occupation_data, \n",
    "                       embedding=embedding, \n",
    "                       distance_threshold=distance_threshold, \n",
    "                       ion_forbidden_list=ion_forbidden_list)"
   ]
  },
  {
   "cell_type": "code",
   "execution_count": 8,
   "metadata": {},
   "outputs": [
    {
     "data": {
      "text/plain": [
       "{(191, 9, (1, '6/mmm'), 0), site index: 0: [('Rb',\n",
       "   0.018323421478271484,\n",
       "   False),\n",
       "  ('K', 0.02188342809677124, False),\n",
       "  ('Cs', 0.02744007110595703, False),\n",
       "  ('Tl', 0.11811000108718872, False),\n",
       "  ('Na', 0.13025516271591187, False),\n",
       "  ('Ba', 0.261111319065094, True)],\n",
       " (191, 9, (1, '6/mmm'), 0), site index: 3: [('Sb',\n",
       "   0.003526031970977783,\n",
       "   False),\n",
       "  ('Bi', 0.028451979160308838, False),\n",
       "  ('As', 0.07530736923217773, False),\n",
       "  ('P', 0.15748435258865356, False),\n",
       "  ('Ir', 0.24137479066848755, True),\n",
       "  ('Pt', 0.28948670625686646, True),\n",
       "  ('Ta', 0.2916148900985718, True),\n",
       "  ('Re', 0.3077079653739929, True),\n",
       "  ('Rh', 0.3191390633583069, True),\n",
       "  ('Au', 0.3234304189682007, True),\n",
       "  ('Os', 0.3247630000114441, True)],\n",
       " (191, 9, (3, 'mmm'), 0), site index: 6: [('V', 0.03470265865325928, False),\n",
       "  ('Nb', 0.07285183668136597, False),\n",
       "  ('Ta', 0.08547395467758179, False),\n",
       "  ('Mn', 0.08579069375991821, False),\n",
       "  ('Ti', 0.09940123558044434, True),\n",
       "  ('Cr', 0.10330325365066528, False),\n",
       "  ('Mo', 0.1266164779663086, False),\n",
       "  ('Re', 0.13882142305374146, True),\n",
       "  ('Fe', 0.15163785219192505, False),\n",
       "  ('Hf', 0.19332945346832275, True),\n",
       "  ('W', 0.19937950372695923, False),\n",
       "  ('Co', 0.20058012008666992, False),\n",
       "  ('Zr', 0.2026851773262024, True),\n",
       "  ('Ru', 0.20331484079360962, False),\n",
       "  ('Os', 0.20608758926391602, True),\n",
       "  ('Rh', 0.20886415243148804, False),\n",
       "  ('Ir', 0.24786359071731567, False),\n",
       "  ('Ni', 0.2988765835762024, True),\n",
       "  ('Sc', 0.29932743310928345, True),\n",
       "  ('Li', 0.3114704489707947, True),\n",
       "  ('Mg', 0.31176626682281494, True),\n",
       "  ('Hg', 0.3180515170097351, True),\n",
       "  ('Be', 0.3222390413284302, True)],\n",
       " (191, 9, (4, '3m'), 0), site index: 1: [('Sb', 0.003977358341217041, False),\n",
       "  ('Bi', 0.027190804481506348, False),\n",
       "  ('As', 0.07546067237854004, False),\n",
       "  ('P', 0.16013318300247192, False),\n",
       "  ('Ir', 0.2293439507484436, True),\n",
       "  ('Pt', 0.274461567401886, True),\n",
       "  ('Ta', 0.3013013005256653, True),\n",
       "  ('Re', 0.3061569929122925, True),\n",
       "  ('Rh', 0.3063144087791443, True),\n",
       "  ('Au', 0.312666654586792, True),\n",
       "  ('Os', 0.31777429580688477, True),\n",
       "  ('Pd', 0.3245565891265869, True)]}"
      ]
     },
     "execution_count": 8,
     "metadata": {},
     "output_type": "execute_result"
    }
   ],
   "source": [
    "rs.get_recommendation_for_AM(kagome_AM)"
   ]
  },
  {
   "cell_type": "code",
   "execution_count": 9,
   "metadata": {},
   "outputs": [
    {
     "data": {
      "text/plain": [
       "[('F', 0.0973658561706543, False),\n",
       " ('Cl', 0.10440915822982788, False),\n",
       " ('Br', 0.12838470935821533, False),\n",
       " ('H', 0.16112929582595825, False),\n",
       " ('O', 0.17956966161727905, False),\n",
       " ('I', 0.2550504207611084, False)]"
      ]
     },
     "execution_count": 9,
     "metadata": {},
     "output_type": "execute_result"
    }
   ],
   "source": [
    "rs.get_recommendation_for_site('221_5_1(m-3m)_1(m-3m)_3(4/mmm)_0[2:3(4/mmm)]')"
   ]
  },
  {
   "cell_type": "code",
   "execution_count": null,
   "metadata": {},
   "outputs": [],
   "source": []
  },
  {
   "cell_type": "code",
   "execution_count": null,
   "metadata": {},
   "outputs": [],
   "source": []
  }
 ],
 "metadata": {
  "kernelspec": {
   "display_name": "rec_graph",
   "language": "python",
   "name": "python3"
  },
  "language_info": {
   "codemirror_mode": {
    "name": "ipython",
    "version": 3
   },
   "file_extension": ".py",
   "mimetype": "text/x-python",
   "name": "python",
   "nbconvert_exporter": "python",
   "pygments_lexer": "ipython3",
   "version": "3.9.10"
  },
  "orig_nbformat": 4
 },
 "nbformat": 4,
 "nbformat_minor": 2
}
