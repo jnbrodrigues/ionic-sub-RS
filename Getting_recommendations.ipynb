{
 "cells": [
  {
   "attachments": {},
   "cell_type": "markdown",
   "metadata": {},
   "source": [
    "# Ion-Site Occupancy Recommender System Demonstration\n",
    "\n",
    "This notebook guides you through the process of obtaining new ion-site occupancies based on a given OQMD ID that represents the structural prototype of interest, or given a crystal structure file.\n",
    "\n",
    "As an example, we will delve into the crystal structure prototype of [$\\text{CsV}_3\\text{Sb}_5$](https://journals.aps.org/prl/abstract/10.1103/PhysRevLett.125.247002), a compound that recently piqued interest for its novel properties. The visualization of this unique crystal structure is displayed below:\n",
    "\n",
    "![kagome_image](etc/kagome_structure.png \"Crystal Structure of CsV3Sb5\")\n",
    "\n",
    "Corresponding to this structure, the OQMD entry with the ID: 1514955 can be found at this [link](https://oqmd.org/materials/entry/1514955). Our aim in this notebook is to demonstrate the process of recommending new ion-site occupancies using this structural prototype as a reference.\n"
   ]
  },
  {
   "attachments": {},
   "cell_type": "markdown",
   "metadata": {},
   "source": [
    "The classes used to build the Recommender System are defined in `recommender/core.py` file."
   ]
  },
  {
   "cell_type": "code",
   "execution_count": 1,
   "metadata": {},
   "outputs": [],
   "source": [
    "from recommender.core import RecommenderSystem, OccupationData\n",
    "import joblib\n",
    "from gensim.models import Word2Vec\n",
    "from pymatgen.core import Element, Structure"
   ]
  },
  {
   "attachments": {},
   "cell_type": "markdown",
   "metadata": {},
   "source": [
    "### Loading embedding and defining the data location\n",
    "\n",
    "In this section, we establish the path to the occupancy data that was used to construct the NetworkX graph. This graph can be found in `data/G100.gexf`. Simultaneously, we load the Word2Vec model, which includes the ion and site embeddings.\n",
    "\n",
    "We also load the Decision Tree classifier to determine the distance threshold applied within the embedding space. "
   ]
  },
  {
   "cell_type": "code",
   "execution_count": 2,
   "metadata": {},
   "outputs": [],
   "source": [
    "json_file_path = 'data/occupancy_data.json.gz'\n",
    "\n",
    "model = Word2Vec.load(f'models/word2vec.model')\n",
    "embedding = model.wv\n",
    "\n",
    "clf = joblib.load(f'models/decision_tree.joblib')\n",
    "distance_threshold = clf.tree_.threshold[0]"
   ]
  },
  {
   "attachments": {},
   "cell_type": "markdown",
   "metadata": {},
   "source": [
    "Here we are defining ions that we don't desire to be recommended (noble gases and radioctive elements)"
   ]
  },
  {
   "cell_type": "code",
   "execution_count": 3,
   "metadata": {},
   "outputs": [
    {
     "data": {
      "text/plain": [
       "['Xe', 'Kr', 'Ar', 'Ne', 'He', 'Tc', 'Pu', 'Np', 'U', 'Pa', 'Th', 'Ac', 'Pm']"
      ]
     },
     "execution_count": 3,
     "metadata": {},
     "output_type": "execute_result"
    }
   ],
   "source": [
    "ions = ['Xe', 'Kr', 'Ar', 'Ne', 'He', 'I', 'Br', 'Cl', 'F', 'Te', 'Se', 'S', 'O', 'Bi', 'Sb', 'As', 'P', 'N', 'Pb', 'Sn', 'Ge', 'Si', 'C', 'Tl', 'In', 'Ga', 'Al', 'B', 'Hg', 'Cd', 'Zn', 'Au', 'Ag', 'Cu', 'Pt', 'Pd', 'Ni', 'Ir', 'Rh', 'Co', 'Os', 'Ru', 'Fe', 'Re', 'Tc', 'Mn', 'W', 'Mo', 'Cr', 'Ta', 'Nb', 'V', 'Hf', 'Zr', 'Ti', 'Pu', 'Np', 'U', 'Pa', 'Th', 'Ac', 'Lu', 'Yb', 'Tm', 'Er', 'Ho', 'Dy', 'Tb', 'Gd', 'Eu', 'Sm', 'Pm', 'Nd', 'Pr', 'Ce', 'La', 'Y', 'Sc', 'Ba', 'Sr', 'Ca', 'Mg', 'Be', 'Cs', 'Rb', 'K', 'Na', 'Li', 'H']\n",
    "ion_forbidden_list = [ion for ion in ions if (Element(ion).Z > 83 or \n",
    "                                              ion in ['Tc', 'Pm'] or\n",
    "                                              Element(ion).group == 18)]\n",
    "ion_forbidden_list "
   ]
  },
  {
   "attachments": {},
   "cell_type": "markdown",
   "metadata": {},
   "source": [
    "First, we create a `OccupationData` object with the compressed json file path."
   ]
  },
  {
   "cell_type": "code",
   "execution_count": 4,
   "metadata": {},
   "outputs": [],
   "source": [
    "occupation_data = OccupationData(json_file_path)"
   ]
  },
  {
   "attachments": {},
   "cell_type": "markdown",
   "metadata": {},
   "source": [
    "At this stage, we retrieve an `AnonymousMotif` object for a specific OQMD ID. This object encapsulates all the crystal structure data, as defined by the Anonymous Motif concept outlined in the paper. This structure-centric information is the foundation for generating our ion-site occupancy recommendations."
   ]
  },
  {
   "cell_type": "code",
   "execution_count": 5,
   "metadata": {},
   "outputs": [],
   "source": [
    "kagome_id = 1514955\n",
    "kagome_AM = occupation_data.get_AM_from_OQMD_id(kagome_id)"
   ]
  },
  {
   "attachments": {},
   "cell_type": "markdown",
   "metadata": {},
   "source": [
    "The `AnonymousMotif` object provides a prototype Pymatgen Structure consisting exclusively of carbon (C) atoms. It also comes with its equivalent site indexes. After receiving the occupancy recommendations, these resources can be utilized for executing ionic substitutions, effectively transforming the prototype into new material structures."
   ]
  },
  {
   "cell_type": "code",
   "execution_count": 6,
   "metadata": {},
   "outputs": [
    {
     "data": {
      "text/plain": [
       "Structure Summary\n",
       "Lattice\n",
       "    abc : 5.469073129 5.469073129363581 9.384302298\n",
       " angles : 90.0 90.0 120.00000000384938\n",
       " volume : 243.08607542522887\n",
       "      A : 5.469073129 0.0 0.0\n",
       "      B : -2.734536565 4.736356265 0.0\n",
       "      C : 0.0 0.0 9.384302298\n",
       "    pbc : True True True\n",
       "PeriodicSite: C (0.0000, 0.0000, 0.0000) [0.0000, 0.0000, 0.0000]\n",
       "PeriodicSite: C (2.7345, 1.5788, 2.4107) [0.6667, 0.3333, 0.2569]\n",
       "PeriodicSite: C (-0.0000, 3.1576, 2.4107) [0.3333, 0.6667, 0.2569]\n",
       "PeriodicSite: C (0.0000, 0.0000, 4.6922) [0.0000, 0.0000, 0.5000]\n",
       "PeriodicSite: C (2.7345, 1.5788, 6.9736) [0.6667, 0.3333, 0.7431]\n",
       "PeriodicSite: C (-0.0000, 3.1576, 6.9736) [0.3333, 0.6667, 0.7431]\n",
       "PeriodicSite: C (2.7345, 0.0000, 4.6922) [0.5000, 0.0000, 0.5000]\n",
       "PeriodicSite: C (-1.3673, 2.3682, 4.6922) [0.0000, 0.5000, 0.5000]\n",
       "PeriodicSite: C (1.3673, 2.3682, 4.6922) [0.5000, 0.5000, 0.5000]"
      ]
     },
     "execution_count": 6,
     "metadata": {},
     "output_type": "execute_result"
    }
   ],
   "source": [
    "kagome_AM.example_structure"
   ]
  },
  {
   "cell_type": "code",
   "execution_count": 7,
   "metadata": {},
   "outputs": [
    {
     "data": {
      "text/plain": [
       "[0, 1, 1, 3, 1, 1, 6, 6, 6]"
      ]
     },
     "execution_count": 7,
     "metadata": {},
     "output_type": "execute_result"
    }
   ],
   "source": [
    "kagome_AM.equivalent_sites_indexes"
   ]
  },
  {
   "attachments": {},
   "cell_type": "markdown",
   "metadata": {},
   "source": [
    "Next, we'll instantiate a `RecommenderSystem` object. This process involves integrating several elements including `OccupationData`, node embeddings, a predefined distance threshold (given by the trained decision tree), and a list of ions that are deemed unsuitable for inclusion (`ion_forbidden_list`).\n",
    "\n",
    "One can further refine the model's recommendations by setting a smaller distance threshold, which makes the recommendation process more stringent."
   ]
  },
  {
   "cell_type": "code",
   "execution_count": 8,
   "metadata": {},
   "outputs": [],
   "source": [
    "rs = RecommenderSystem(occupation_data=occupation_data, \n",
    "                       embedding=embedding, \n",
    "                       distance_threshold=distance_threshold, \n",
    "                       ion_forbidden_list=ion_forbidden_list)"
   ]
  },
  {
   "attachments": {},
   "cell_type": "markdown",
   "metadata": {},
   "source": [
    "To generate recommendations for this prototype structure, we feed the `AnonymousMotif`—derived from the OQMD ID—into the `get_recommendations_for_AM` method of the `RecommenderSystem`. The output is a dictionary where each key corresponds to an `AMsite` object representing a specific Anonymous Motif site. Each key is associated with a value that comprises a list of recommended ions for that specific site.\n",
    "\n",
    "The recommendations are expressed as tuples in the format `(ion, ion-site distance, novel occupation)`. Here, `novel occupation` indicates whether the suggested ion-site occupation represents a new variant within the OQMD compound set (the dataset used to construct the recommender system). The recommendations are sorted based on the ion-site distance.\n",
    "\n",
    "Importantly, the `AMSite` keys display their respective site indexes. These indexes reference specific sites in the `AnonymousMotif.example_structure` where the recommended ions should be substituted, thus providing a clear mapping for potential new compounds."
   ]
  },
  {
   "cell_type": "code",
   "execution_count": 9,
   "metadata": {},
   "outputs": [
    {
     "data": {
      "text/plain": [
       "{(191, 9, (1, '6/mmm'), 0), site index: 0: [('Rb',\n",
       "   0.018323421478271484,\n",
       "   False),\n",
       "  ('K', 0.02188342809677124, False),\n",
       "  ('Cs', 0.02744007110595703, False),\n",
       "  ('Tl', 0.11811000108718872, False),\n",
       "  ('Na', 0.13025516271591187, False),\n",
       "  ('Ba', 0.261111319065094, True)],\n",
       " (191, 9, (1, '6/mmm'), 0), site index: 3: [('Sb',\n",
       "   0.003526031970977783,\n",
       "   False),\n",
       "  ('Bi', 0.028451979160308838, False),\n",
       "  ('As', 0.07530736923217773, False),\n",
       "  ('P', 0.15748435258865356, False),\n",
       "  ('Ir', 0.24137479066848755, True),\n",
       "  ('Pt', 0.28948670625686646, True),\n",
       "  ('Ta', 0.2916148900985718, True),\n",
       "  ('Re', 0.3077079653739929, True),\n",
       "  ('Rh', 0.3191390633583069, True),\n",
       "  ('Au', 0.3234304189682007, True),\n",
       "  ('Os', 0.3247630000114441, True)],\n",
       " (191, 9, (3, 'mmm'), 0), site index: 6: [('V', 0.03470265865325928, False),\n",
       "  ('Nb', 0.07285183668136597, False),\n",
       "  ('Ta', 0.08547395467758179, False),\n",
       "  ('Mn', 0.08579069375991821, False),\n",
       "  ('Ti', 0.09940123558044434, True),\n",
       "  ('Cr', 0.10330325365066528, False),\n",
       "  ('Mo', 0.1266164779663086, False),\n",
       "  ('Re', 0.13882142305374146, True),\n",
       "  ('Fe', 0.15163785219192505, False),\n",
       "  ('Hf', 0.19332945346832275, True),\n",
       "  ('W', 0.19937950372695923, False),\n",
       "  ('Co', 0.20058012008666992, False),\n",
       "  ('Zr', 0.2026851773262024, True),\n",
       "  ('Ru', 0.20331484079360962, False),\n",
       "  ('Os', 0.20608758926391602, True),\n",
       "  ('Rh', 0.20886415243148804, False),\n",
       "  ('Ir', 0.24786359071731567, False),\n",
       "  ('Ni', 0.2988765835762024, True),\n",
       "  ('Sc', 0.29932743310928345, True),\n",
       "  ('Li', 0.3114704489707947, True),\n",
       "  ('Mg', 0.31176626682281494, True),\n",
       "  ('Hg', 0.3180515170097351, True),\n",
       "  ('Be', 0.3222390413284302, True)],\n",
       " (191, 9, (4, '3m'), 0), site index: 1: [('Sb', 0.003977358341217041, False),\n",
       "  ('Bi', 0.027190804481506348, False),\n",
       "  ('As', 0.07546067237854004, False),\n",
       "  ('P', 0.16013318300247192, False),\n",
       "  ('Ir', 0.2293439507484436, True),\n",
       "  ('Pt', 0.274461567401886, True),\n",
       "  ('Ta', 0.3013013005256653, True),\n",
       "  ('Re', 0.3061569929122925, True),\n",
       "  ('Rh', 0.3063144087791443, True),\n",
       "  ('Au', 0.312666654586792, True),\n",
       "  ('Os', 0.31777429580688477, True),\n",
       "  ('Pd', 0.3245565891265869, True)]}"
      ]
     },
     "execution_count": 9,
     "metadata": {},
     "output_type": "execute_result"
    }
   ],
   "source": [
    "kagome_recommendations = rs.get_recommendation_for_AM(kagome_AM)\n",
    "kagome_recommendations"
   ]
  },
  {
   "attachments": {},
   "cell_type": "markdown",
   "metadata": {},
   "source": [
    "Each `AnonymousMotif` site can be individually accessed through the `sites` attribute. This provides the flexibility to obtain recommendations for a specific Anonymous Motif (AM) site. To do this, simply input the site's label into the `RecommenderSystem.get_recommendation_for_site` method. This approach allows for a more targeted exploration of potential ion substitutions."
   ]
  },
  {
   "cell_type": "code",
   "execution_count": 10,
   "metadata": {},
   "outputs": [
    {
     "data": {
      "text/plain": [
       "[(191, 9, (1, '6/mmm'), 0), site index: 0,\n",
       " (191, 9, (1, '6/mmm'), 0), site index: 3,\n",
       " (191, 9, (3, 'mmm'), 0), site index: 6,\n",
       " (191, 9, (4, '3m'), 0), site index: 1]"
      ]
     },
     "execution_count": 10,
     "metadata": {},
     "output_type": "execute_result"
    }
   ],
   "source": [
    "kagome_AM.sites"
   ]
  },
  {
   "cell_type": "code",
   "execution_count": 11,
   "metadata": {},
   "outputs": [
    {
     "data": {
      "text/plain": [
       "[('V', 0.03470265865325928, False),\n",
       " ('Nb', 0.07285183668136597, False),\n",
       " ('Ta', 0.08547395467758179, False),\n",
       " ('Mn', 0.08579069375991821, False),\n",
       " ('Ti', 0.09940123558044434, True),\n",
       " ('Cr', 0.10330325365066528, False),\n",
       " ('Mo', 0.1266164779663086, False),\n",
       " ('Re', 0.13882142305374146, True),\n",
       " ('Fe', 0.15163785219192505, False),\n",
       " ('Hf', 0.19332945346832275, True)]"
      ]
     },
     "execution_count": 11,
     "metadata": {},
     "output_type": "execute_result"
    }
   ],
   "source": [
    "C_site_label = kagome_AM.sites[2].label\n",
    "# top_n defined to get the top 10 recommendations ranked by the ion-site distance\n",
    "rs.get_recommendation_for_site(C_site_label, top_n=10) "
   ]
  },
  {
   "cell_type": "code",
   "execution_count": 12,
   "metadata": {},
   "outputs": [
    {
     "data": {
      "text/plain": [
       "[('Ti', 0.09940123558044434, True),\n",
       " ('Re', 0.13882142305374146, True),\n",
       " ('Hf', 0.19332945346832275, True),\n",
       " ('Zr', 0.2026851773262024, True),\n",
       " ('Os', 0.20608758926391602, True),\n",
       " ('Ni', 0.2988765835762024, True),\n",
       " ('Sc', 0.29932743310928345, True),\n",
       " ('Li', 0.3114704489707947, True),\n",
       " ('Mg', 0.31176626682281494, True),\n",
       " ('Hg', 0.3180515170097351, True),\n",
       " ('Be', 0.3222390413284302, True)]"
      ]
     },
     "execution_count": 12,
     "metadata": {},
     "output_type": "execute_result"
    }
   ],
   "source": [
    "rs.get_recommendation_for_site(C_site_label, only_new=True) "
   ]
  },
  {
   "attachments": {},
   "cell_type": "markdown",
   "metadata": {},
   "source": [
    "Analogously, the same can be done for site recommendations given a specific ion"
   ]
  },
  {
   "cell_type": "code",
   "execution_count": 13,
   "metadata": {},
   "outputs": [
    {
     "data": {
      "text/plain": [
       "[('12_14_2(-1)_2(2)_2(m)_2(m)_2(m)_4(1)_0[2:2(m)]',\n",
       "  0.0005753636360168457,\n",
       "  False),\n",
       " ('12_8_1(2/m)_1(2/m)_2(m)_2(m)_2(m)_4[2:2(m)]', 0.0006464719772338867, False),\n",
       " ('12_14_2(-1)_2(2)_2(m)_2(m)_2(m)_4(1)_0[3:2(m)]',\n",
       "  0.0006899833679199219,\n",
       "  False),\n",
       " ('51_8_2(2/m)_2(mm2)_2(mm2)_2(mm2)_21[2:2(mm2)]',\n",
       "  0.000743865966796875,\n",
       "  False),\n",
       " ('12_18_1(2/m)_1(2/m)_2(m)_2(m)_2(m)_2(m)_2(m)_2(m)_2(m)_2(m)_0[2:2(m)]',\n",
       "  0.0008195042610168457,\n",
       "  False),\n",
       " ('12_8_1(2/m)_1(2/m)_2(m)_2(m)_2(m)_1[2:2(m)]', 0.000874638557434082, False),\n",
       " ('36_16_2(m)_2(m)_2(m)_2(m)_2(m)_2(m)_2(m)_2(m)_0[0:2(m)]',\n",
       "  0.0008921623229980469,\n",
       "  False),\n",
       " ('2_20_2(1)_2(1)_2(1)_2(1)_2(1)_2(1)_2(1)_2(1)_2(1)_2(1)_2[1:2(1)]',\n",
       "  0.0009273290634155273,\n",
       "  False),\n",
       " ('36_16_2(m)_2(m)_2(m)_2(m)_2(m)_2(m)_2(m)_2(m)_0[1:2(m)]',\n",
       "  0.0011115074157714844,\n",
       "  False),\n",
       " ('12_18_1(2/m)_1(2/m)_2(m)_2(m)_2(m)_2(m)_2(m)_2(m)_2(m)_2(m)_0[3:2(m)]',\n",
       "  0.0012204647064208984,\n",
       "  False)]"
      ]
     },
     "execution_count": 13,
     "metadata": {},
     "output_type": "execute_result"
    }
   ],
   "source": [
    "rs.get_recommendation_for_ion('Bi', top_n=10)"
   ]
  },
  {
   "attachments": {},
   "cell_type": "markdown",
   "metadata": {},
   "source": [
    "https://www.mindat.org/min-42796.html\n",
    "CaAlF5"
   ]
  },
  {
   "cell_type": "code",
   "execution_count": 16,
   "metadata": {},
   "outputs": [
    {
     "data": {
      "text/plain": [
       "Structure Summary\n",
       "Lattice\n",
       "    abc : 8.712 6.317 7.349\n",
       " angles : 90.0 115.04000000000003 90.0\n",
       " volume : 366.43014260358336\n",
       "      A : 7.893181100315509 0.0 -3.687361674371263\n",
       "      B : -3.868046915106915e-16 6.317 3.868046915106915e-16\n",
       "      C : 0.0 0.0 7.349\n",
       "    pbc : True True True\n",
       "PeriodicSite: Ca (-0.0000, 3.4263, 1.8373) [0.0000, 0.5424, 0.2500]\n",
       "PeriodicSite: Ca (3.9466, 0.2678, -0.0064) [0.5000, 0.0424, 0.2500]\n",
       "PeriodicSite: Ca (-0.0000, 2.8907, 5.5118) [0.0000, 0.4576, 0.7500]\n",
       "PeriodicSite: Ca (3.9466, 6.0492, 3.6681) [0.5000, 0.9576, 0.7500]\n",
       "PeriodicSite: Al (0.0000, 0.0000, 0.0000) [0.0000, 0.0000, 0.0000]\n",
       "PeriodicSite: Al (3.9466, 3.1585, -1.8437) [0.5000, 0.5000, 0.0000]\n",
       "PeriodicSite: Al (0.0000, 0.0000, 3.6745) [0.0000, 0.0000, 0.5000]\n",
       "PeriodicSite: Al (3.9466, 3.1585, 1.8308) [0.5000, 0.5000, 0.5000]\n",
       "PeriodicSite: F (-0.0000, 5.9519, 1.8373) [0.0000, 0.9422, 0.2500]\n",
       "PeriodicSite: F (3.9466, 2.7934, -0.0064) [0.5000, 0.4422, 0.2500]\n",
       "PeriodicSite: F (-0.0000, 0.3651, 5.5118) [0.0000, 0.0578, 0.7500]\n",
       "PeriodicSite: F (3.9466, 3.5236, 3.6681) [0.5000, 0.5578, 0.7500]\n",
       "PeriodicSite: F (0.0900, 4.5287, 7.1137) [0.0114, 0.7169, 0.9737]\n",
       "PeriodicSite: F (4.0366, 1.3702, 5.2700) [0.5114, 0.2169, 0.9737]\n",
       "PeriodicSite: F (0.0900, 1.7883, 3.4392) [0.0114, 0.2831, 0.4737]\n",
       "PeriodicSite: F (4.0366, 4.9468, 1.5955) [0.5114, 0.7831, 0.4737]\n",
       "PeriodicSite: F (7.8032, 4.5287, 0.2225) [0.9886, 0.7169, 0.5263]\n",
       "PeriodicSite: F (3.8566, 1.3702, 2.0661) [0.4886, 0.2169, 0.5263]\n",
       "PeriodicSite: F (7.8032, 1.7883, -3.4520) [0.9886, 0.2831, 0.0263]\n",
       "PeriodicSite: F (3.8566, 4.9468, -1.6084) [0.4886, 0.7831, 0.0263]\n",
       "PeriodicSite: F (6.1480, 6.2046, 3.6465) [0.7789, 0.9822, 0.8870]\n",
       "PeriodicSite: F (2.2014, 3.0461, 5.4902) [0.2789, 0.4822, 0.8870]\n",
       "PeriodicSite: F (6.1480, 0.1124, -0.0280) [0.7789, 0.0178, 0.3870]\n",
       "PeriodicSite: F (2.2014, 3.2709, 1.8157) [0.2789, 0.5178, 0.3870]\n",
       "PeriodicSite: F (1.7452, 6.2046, 3.6897) [0.2211, 0.9822, 0.6130]\n",
       "PeriodicSite: F (5.6918, 3.0461, 1.8460) [0.7211, 0.4822, 0.6130]\n",
       "PeriodicSite: F (1.7452, 0.1124, 0.0152) [0.2211, 0.0178, 0.1130]\n",
       "PeriodicSite: F (5.6918, 3.2709, -1.8285) [0.7211, 0.5178, 0.1130]"
      ]
     },
     "execution_count": 16,
     "metadata": {},
     "output_type": "execute_result"
    }
   ],
   "source": [
    "jakobssonite_structure = Structure.from_file('etc/jakobssonite.cif')\n",
    "jakobssonite_structure"
   ]
  },
  {
   "cell_type": "code",
   "execution_count": 17,
   "metadata": {},
   "outputs": [
    {
     "data": {
      "text/plain": [
       "(15, 14, [(2, '-1'), (2, '2'), (2, '2'), (4, '1'), (4, '1')], 0)"
      ]
     },
     "execution_count": 17,
     "metadata": {},
     "output_type": "execute_result"
    }
   ],
   "source": [
    "jakobssonite_AM = occupation_data.get_AM_from_structure(jakobssonite_structure)\n",
    "jakobssonite_AM"
   ]
  },
  {
   "cell_type": "code",
   "execution_count": 18,
   "metadata": {},
   "outputs": [
    {
     "data": {
      "text/plain": [
       "{(15, 14, (2, '-1'), 0), site index: 2: [('Na', 0.03471487760543823, False),\n",
       "  ('K', 0.04308205842971802, False),\n",
       "  ('Rb', 0.07844394445419312, False),\n",
       "  ('Cs', 0.1149492859840393, True),\n",
       "  ('Tl', 0.1474519968032837, False),\n",
       "  ('Li', 0.21496635675430298, False),\n",
       "  ('Ba', 0.3086221218109131, True)],\n",
       " (15, 14, (2, '2'), 0), site index: 0: [('B', 0.004493117332458496, False),\n",
       "  ('C', 0.16621387004852295, True),\n",
       "  ('Al', 0.3119314908981323, False),\n",
       "  ('Pt', 0.317658007144928, True),\n",
       "  ('Si', 0.32328367233276367, True),\n",
       "  ('Ga', 0.32405978441238403, True),\n",
       "  ('N', 0.32569217681884766, True)],\n",
       " (15, 14, (2, '2'), 0), site index: 9: [('S', 0.012279272079467773, False),\n",
       "  ('Se', 0.022431671619415283, False),\n",
       "  ('Te', 0.12491995096206665, False)],\n",
       " (15, 14, (4, '1'), 0), site index: 3: [('K', 0.0571560263633728, False),\n",
       "  ('Na', 0.06441515684127808, False),\n",
       "  ('Rb', 0.07851743698120117, False),\n",
       "  ('Cs', 0.1478816270828247, True),\n",
       "  ('Tl', 0.21432268619537354, True),\n",
       "  ('Li', 0.22979038953781128, False),\n",
       "  ('Sr', 0.2826749086380005, True),\n",
       "  ('Ba', 0.29637229442596436, True),\n",
       "  ('Eu', 0.3107687830924988, True)],\n",
       " (15, 14, (4, '1'), 0), site index: 8: [('S', 0.011774718761444092, False),\n",
       "  ('Se', 0.024443447589874268, False),\n",
       "  ('Te', 0.1323070526123047, False)]}"
      ]
     },
     "execution_count": 18,
     "metadata": {},
     "output_type": "execute_result"
    }
   ],
   "source": [
    "jakobssonite_recommendations = rs.get_recommendation_for_AM(jakobssonite_AM)\n",
    "jakobssonite_recommendations"
   ]
  },
  {
   "cell_type": "code",
   "execution_count": null,
   "metadata": {},
   "outputs": [],
   "source": []
  }
 ],
 "metadata": {
  "kernelspec": {
   "display_name": "rec_graph",
   "language": "python",
   "name": "python3"
  },
  "language_info": {
   "codemirror_mode": {
    "name": "ipython",
    "version": 3
   },
   "file_extension": ".py",
   "mimetype": "text/x-python",
   "name": "python",
   "nbconvert_exporter": "python",
   "pygments_lexer": "ipython3",
   "version": "3.9.10"
  },
  "orig_nbformat": 4
 },
 "nbformat": 4,
 "nbformat_minor": 2
}
